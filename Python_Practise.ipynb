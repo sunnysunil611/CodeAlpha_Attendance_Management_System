{
  "nbformat": 4,
  "nbformat_minor": 0,
  "metadata": {
    "colab": {
      "provenance": [],
      "authorship_tag": "ABX9TyPGGMHYkWyqLCJIu+bphD+L",
      "include_colab_link": true
    },
    "kernelspec": {
      "name": "python3",
      "display_name": "Python 3"
    },
    "language_info": {
      "name": "python"
    }
  },
  "cells": [
    {
      "cell_type": "markdown",
      "metadata": {
        "id": "view-in-github",
        "colab_type": "text"
      },
      "source": [
        "<a href=\"https://colab.research.google.com/github/sunnysunil611/CodeAlpha_Attendance_Management_System/blob/main/Python_Practise.ipynb\" target=\"_parent\"><img src=\"https://colab.research.google.com/assets/colab-badge.svg\" alt=\"Open In Colab\"/></a>"
      ]
    },
    {
      "cell_type": "code",
      "execution_count": null,
      "metadata": {
        "id": "RtvHYYDKr12R"
      },
      "outputs": [],
      "source": [
        "import numpy as np"
      ]
    },
    {
      "cell_type": "code",
      "source": [
        "new_arr = np.arange(10,100,5)\n",
        "print(new_arr)\n",
        "\n",
        "arr_1d = np.array([1,2,3,])\n",
        "print(arr_1d)\n",
        "print(arr_1d[1])\n",
        "\n",
        "\n",
        "arr_2d = np.array([[1,2,3,],[7,8,9]], dtype=np.float32)\n",
        "print(arr_2d)\n",
        "arr_2d.dtype\n",
        "\n",
        "\n",
        "arr_3d =np.ones([2,3,4])\n",
        "print(arr_3d)\n",
        "\n",
        "\n",
        "arr_full = np.full((3,3), 100, dtype=np.float64)\n",
        "print(arr_full)\n"
      ],
      "metadata": {
        "colab": {
          "base_uri": "https://localhost:8080/"
        },
        "id": "dlwnIJ5Fr8Nl",
        "outputId": "f3f560cc-1a44-40e9-da49-6c97fa8804d7"
      },
      "execution_count": null,
      "outputs": [
        {
          "output_type": "stream",
          "name": "stdout",
          "text": [
            "[10 15 20 25 30 35 40 45 50 55 60 65 70 75 80 85 90 95]\n",
            "[1 2 3]\n",
            "2\n",
            "[[1. 2. 3.]\n",
            " [7. 8. 9.]]\n",
            "[[[1. 1. 1. 1.]\n",
            "  [1. 1. 1. 1.]\n",
            "  [1. 1. 1. 1.]]\n",
            "\n",
            " [[1. 1. 1. 1.]\n",
            "  [1. 1. 1. 1.]\n",
            "  [1. 1. 1. 1.]]]\n",
            "[[100. 100. 100.]\n",
            " [100. 100. 100.]\n",
            " [100. 100. 100.]]\n"
          ]
        }
      ]
    },
    {
      "cell_type": "code",
      "source": [
        "arr2d = np.array([[1,2,3],[4,5,6]])\n",
        "ind=[[1,1],[0,0]]\n",
        "s_e=arr2d[ind]\n",
        "print(s_e)"
      ],
      "metadata": {
        "colab": {
          "base_uri": "https://localhost:8080/"
        },
        "id": "ARtGywV7Cp4-",
        "outputId": "22a19eeb-2e25-4f9d-f60b-ddcbe9875935"
      },
      "execution_count": null,
      "outputs": [
        {
          "output_type": "stream",
          "name": "stdout",
          "text": [
            "[[[4 5 6]\n",
            "  [4 5 6]]\n",
            "\n",
            " [[1 2 3]\n",
            "  [1 2 3]]]\n"
          ]
        }
      ]
    },
    {
      "cell_type": "markdown",
      "source": [],
      "metadata": {
        "id": "IrnyInuOFLzV"
      }
    },
    {
      "cell_type": "code",
      "source": [
        "a=np.random.randint(1,10, size = 20)\n",
        "print(a)"
      ],
      "metadata": {
        "colab": {
          "base_uri": "https://localhost:8080/"
        },
        "id": "hbZ1BFI3F1qc",
        "outputId": "dc5697fe-bb53-4b65-ea94-5e80bc25f94c"
      },
      "execution_count": null,
      "outputs": [
        {
          "output_type": "stream",
          "name": "stdout",
          "text": [
            "[7 3 3 7 5 5 9 6 3 6 4 1 9 1 9 9 5 2 8 7]\n"
          ]
        }
      ]
    },
    {
      "cell_type": "code",
      "source": [],
      "metadata": {
        "id": "-TMOPAOhF8oF"
      },
      "execution_count": null,
      "outputs": []
    }
  ]
}